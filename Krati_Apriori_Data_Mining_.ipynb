{
  "nbformat": 4,
  "nbformat_minor": 0,
  "metadata": {
    "anaconda-cloud": {},
    "kernelspec": {
      "display_name": "Python 3",
      "language": "python",
      "name": "python3"
    },
    "language_info": {
      "codemirror_mode": {
        "name": "ipython",
        "version": 3
      },
      "file_extension": ".py",
      "mimetype": "text/x-python",
      "name": "python",
      "nbconvert_exporter": "python",
      "pygments_lexer": "ipython3",
      "version": "3.5.1"
    },
    "colab": {
      "name": "Krati Apriori Data Mining .ipynb",
      "provenance": [],
      "collapsed_sections": [],
      "include_colab_link": true
    }
  },
  "cells": [
    {
      "cell_type": "markdown",
      "metadata": {
        "id": "view-in-github",
        "colab_type": "text"
      },
      "source": [
        "<a href=\"https://colab.research.google.com/github/kratikv2/Test-Dataset/blob/main/Krati_Apriori_Data_Mining_.ipynb\" target=\"_parent\"><img src=\"https://colab.research.google.com/assets/colab-badge.svg\" alt=\"Open In Colab\"/></a>"
      ]
    },
    {
      "cell_type": "markdown",
      "metadata": {
        "id": "lOdgef9zOwYV"
      },
      "source": [
        "# Association Rule Mining with Apriori Algorithm"
      ]
    },
    {
      "cell_type": "code",
      "metadata": {
        "id": "SJ2ME5rrhD7p",
        "colab": {
          "base_uri": "https://localhost:8080/"
        },
        "outputId": "cd785f27-8727-46f7-cc65-89db3b174618"
      },
      "source": [
        "!pip install apyori  #This instals the Apyori package for using the Association Mining Apriori algorithm\n",
        "\n",
        "import numpy as np\n",
        "import matplotlib.pyplot as plt\n",
        "import pandas as pd\n",
        "from apyori import apriori"
      ],
      "execution_count": null,
      "outputs": [
        {
          "output_type": "stream",
          "text": [
            "Collecting apyori\n",
            "  Downloading https://files.pythonhosted.org/packages/5e/62/5ffde5c473ea4b033490617ec5caa80d59804875ad3c3c57c0976533a21a/apyori-1.1.2.tar.gz\n",
            "Building wheels for collected packages: apyori\n",
            "  Building wheel for apyori (setup.py) ... \u001b[?25l\u001b[?25hdone\n",
            "  Created wheel for apyori: filename=apyori-1.1.2-cp37-none-any.whl size=5975 sha256=4f967b301d1a130fc76d6d7d72ffa1b7a892c781a3c62795b802bad273bf4046\n",
            "  Stored in directory: /root/.cache/pip/wheels/5d/92/bb/474bbadbc8c0062b9eb168f69982a0443263f8ab1711a8cad0\n",
            "Successfully built apyori\n",
            "Installing collected packages: apyori\n",
            "Successfully installed apyori-1.1.2\n"
          ],
          "name": "stdout"
        }
      ]
    },
    {
      "cell_type": "code",
      "metadata": {
        "id": "Xw7EEhSkhh_e",
        "colab": {
          "resources": {
            "http://localhost:8080/nbextensions/google.colab/files.js": {
              "data": "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",
              "ok": true,
              "headers": [
                [
                  "content-type",
                  "application/javascript"
                ]
              ],
              "status": 200,
              "status_text": ""
            }
          },
          "base_uri": "https://localhost:8080/",
          "height": 111
        },
        "outputId": "7fbdc551-2093-4600-c881-b02eedad3100"
      },
      "source": [
        "from google.colab import files\n",
        "files.upload()"
      ],
      "execution_count": null,
      "outputs": [
        {
          "output_type": "display_data",
          "data": {
            "text/html": [
              "\n",
              "     <input type=\"file\" id=\"files-4d9faa81-af97-4896-ab7e-b319fdef8735\" name=\"files[]\" multiple disabled\n",
              "        style=\"border:none\" />\n",
              "     <output id=\"result-4d9faa81-af97-4896-ab7e-b319fdef8735\">\n",
              "      Upload widget is only available when the cell has been executed in the\n",
              "      current browser session. Please rerun this cell to enable.\n",
              "      </output>\n",
              "      <script src=\"/nbextensions/google.colab/files.js\"></script> "
            ],
            "text/plain": [
              "<IPython.core.display.HTML object>"
            ]
          },
          "metadata": {
            "tags": []
          }
        },
        {
          "output_type": "stream",
          "text": [
            "Saving list.csv to list.csv\n"
          ],
          "name": "stdout"
        },
        {
          "output_type": "execute_result",
          "data": {
            "text/plain": [
              "{'list.csv': b'blue ball pen,black gel pen,scale,notebook,\\r\\ncrayons,sketchpen,blue ball pen,drawing book,\\r\\ndrawing book,black gel pen,,,\\r\\nnotebook,pencil,rubber,blue ball pen,black gel pen\\r\\npencil,rubber,notebook,,\\r\\ndrawing book,crayons,notebook,,\\r\\nscale,notebook,blue ball pen,,\\r\\nsketch pen,crayons,,,\\r\\ndrawing book,blue ball pen,scale,,\\r\\ndrawing book,crayons,blue ball pen,,\\r\\nblack gel pen,,,,\\r\\nsketchpen,notebook,rubber,,\\r\\nblack gel pen,pencil,notebook,,\\r\\npencil,drawing book,notebook,,\\r\\nrubber,scale,blue ball pen,drawing book,\\r\\ncrayons,sketch pen,,,\\r\\nnotebook,blue ball pen,,,\\r\\ncrayons,,,,\\r\\n'}"
            ]
          },
          "metadata": {
            "tags": []
          },
          "execution_count": 2
        }
      ]
    },
    {
      "cell_type": "code",
      "metadata": {
        "id": "3ekHu5-fheLX"
      },
      "source": [
        "store_data = pd.read_csv('list.csv')"
      ],
      "execution_count": null,
      "outputs": []
    },
    {
      "cell_type": "code",
      "metadata": {
        "id": "Un923mavhsL5",
        "colab": {
          "base_uri": "https://localhost:8080/",
          "height": 198
        },
        "outputId": "f424f46c-6d21-4be5-9ec4-51cd707323a1"
      },
      "source": [
        "store_data.head()"
      ],
      "execution_count": null,
      "outputs": [
        {
          "output_type": "execute_result",
          "data": {
            "text/html": [
              "<div>\n",
              "<style scoped>\n",
              "    .dataframe tbody tr th:only-of-type {\n",
              "        vertical-align: middle;\n",
              "    }\n",
              "\n",
              "    .dataframe tbody tr th {\n",
              "        vertical-align: top;\n",
              "    }\n",
              "\n",
              "    .dataframe thead th {\n",
              "        text-align: right;\n",
              "    }\n",
              "</style>\n",
              "<table border=\"1\" class=\"dataframe\">\n",
              "  <thead>\n",
              "    <tr style=\"text-align: right;\">\n",
              "      <th></th>\n",
              "      <th>blue ball pen</th>\n",
              "      <th>black gel pen</th>\n",
              "      <th>scale</th>\n",
              "      <th>notebook</th>\n",
              "      <th>Unnamed: 4</th>\n",
              "    </tr>\n",
              "  </thead>\n",
              "  <tbody>\n",
              "    <tr>\n",
              "      <th>0</th>\n",
              "      <td>crayons</td>\n",
              "      <td>sketchpen</td>\n",
              "      <td>blue ball pen</td>\n",
              "      <td>drawing book</td>\n",
              "      <td>NaN</td>\n",
              "    </tr>\n",
              "    <tr>\n",
              "      <th>1</th>\n",
              "      <td>drawing book</td>\n",
              "      <td>black gel pen</td>\n",
              "      <td>NaN</td>\n",
              "      <td>NaN</td>\n",
              "      <td>NaN</td>\n",
              "    </tr>\n",
              "    <tr>\n",
              "      <th>2</th>\n",
              "      <td>notebook</td>\n",
              "      <td>pencil</td>\n",
              "      <td>rubber</td>\n",
              "      <td>blue ball pen</td>\n",
              "      <td>black gel pen</td>\n",
              "    </tr>\n",
              "    <tr>\n",
              "      <th>3</th>\n",
              "      <td>pencil</td>\n",
              "      <td>rubber</td>\n",
              "      <td>notebook</td>\n",
              "      <td>NaN</td>\n",
              "      <td>NaN</td>\n",
              "    </tr>\n",
              "    <tr>\n",
              "      <th>4</th>\n",
              "      <td>drawing book</td>\n",
              "      <td>crayons</td>\n",
              "      <td>notebook</td>\n",
              "      <td>NaN</td>\n",
              "      <td>NaN</td>\n",
              "    </tr>\n",
              "  </tbody>\n",
              "</table>\n",
              "</div>"
            ],
            "text/plain": [
              "  blue ball pen  black gel pen          scale       notebook     Unnamed: 4\n",
              "0       crayons      sketchpen  blue ball pen   drawing book            NaN\n",
              "1  drawing book  black gel pen            NaN            NaN            NaN\n",
              "2      notebook         pencil         rubber  blue ball pen  black gel pen\n",
              "3        pencil         rubber       notebook            NaN            NaN\n",
              "4  drawing book        crayons       notebook            NaN            NaN"
            ]
          },
          "metadata": {
            "tags": []
          },
          "execution_count": 4
        }
      ]
    },
    {
      "cell_type": "code",
      "metadata": {
        "id": "5YKuVMb8h6S7",
        "colab": {
          "base_uri": "https://localhost:8080/",
          "height": 198
        },
        "outputId": "470c314c-c354-4bea-eae5-44c150d3e577"
      },
      "source": [
        "store_data = pd.read_csv('list.csv', header=None)\n",
        "store_data.head()"
      ],
      "execution_count": null,
      "outputs": [
        {
          "output_type": "execute_result",
          "data": {
            "text/html": [
              "<div>\n",
              "<style scoped>\n",
              "    .dataframe tbody tr th:only-of-type {\n",
              "        vertical-align: middle;\n",
              "    }\n",
              "\n",
              "    .dataframe tbody tr th {\n",
              "        vertical-align: top;\n",
              "    }\n",
              "\n",
              "    .dataframe thead th {\n",
              "        text-align: right;\n",
              "    }\n",
              "</style>\n",
              "<table border=\"1\" class=\"dataframe\">\n",
              "  <thead>\n",
              "    <tr style=\"text-align: right;\">\n",
              "      <th></th>\n",
              "      <th>0</th>\n",
              "      <th>1</th>\n",
              "      <th>2</th>\n",
              "      <th>3</th>\n",
              "      <th>4</th>\n",
              "    </tr>\n",
              "  </thead>\n",
              "  <tbody>\n",
              "    <tr>\n",
              "      <th>0</th>\n",
              "      <td>blue ball pen</td>\n",
              "      <td>black gel pen</td>\n",
              "      <td>scale</td>\n",
              "      <td>notebook</td>\n",
              "      <td>NaN</td>\n",
              "    </tr>\n",
              "    <tr>\n",
              "      <th>1</th>\n",
              "      <td>crayons</td>\n",
              "      <td>sketchpen</td>\n",
              "      <td>blue ball pen</td>\n",
              "      <td>drawing book</td>\n",
              "      <td>NaN</td>\n",
              "    </tr>\n",
              "    <tr>\n",
              "      <th>2</th>\n",
              "      <td>drawing book</td>\n",
              "      <td>black gel pen</td>\n",
              "      <td>NaN</td>\n",
              "      <td>NaN</td>\n",
              "      <td>NaN</td>\n",
              "    </tr>\n",
              "    <tr>\n",
              "      <th>3</th>\n",
              "      <td>notebook</td>\n",
              "      <td>pencil</td>\n",
              "      <td>rubber</td>\n",
              "      <td>blue ball pen</td>\n",
              "      <td>black gel pen</td>\n",
              "    </tr>\n",
              "    <tr>\n",
              "      <th>4</th>\n",
              "      <td>pencil</td>\n",
              "      <td>rubber</td>\n",
              "      <td>notebook</td>\n",
              "      <td>NaN</td>\n",
              "      <td>NaN</td>\n",
              "    </tr>\n",
              "  </tbody>\n",
              "</table>\n",
              "</div>"
            ],
            "text/plain": [
              "               0              1              2              3              4\n",
              "0  blue ball pen  black gel pen          scale       notebook            NaN\n",
              "1        crayons      sketchpen  blue ball pen   drawing book            NaN\n",
              "2   drawing book  black gel pen            NaN            NaN            NaN\n",
              "3       notebook         pencil         rubber  blue ball pen  black gel pen\n",
              "4         pencil         rubber       notebook            NaN            NaN"
            ]
          },
          "metadata": {
            "tags": []
          },
          "execution_count": 5
        }
      ]
    },
    {
      "cell_type": "code",
      "metadata": {
        "id": "RwJwtADyiHkM"
      },
      "source": [
        "records = []\n",
        "for i in range(0, 18):\n",
        "    records.append([str(store_data.values[i,j]) for j in range(0, 5)])"
      ],
      "execution_count": null,
      "outputs": []
    },
    {
      "cell_type": "code",
      "metadata": {
        "id": "bkDTGvlniSIp"
      },
      "source": [
        "association_rules = apriori(records, min_support=0.0045, min_confidence=0.2, min_lift=3, min_length=2)\n",
        "association_results = list(association_rules)"
      ],
      "execution_count": null,
      "outputs": []
    },
    {
      "cell_type": "code",
      "metadata": {
        "id": "laiaMEDNioOO",
        "colab": {
          "base_uri": "https://localhost:8080/"
        },
        "outputId": "d7ce830c-d21c-46a1-e407-7cbd9e4667cd"
      },
      "source": [
        "print(len(association_results))"
      ],
      "execution_count": null,
      "outputs": [
        {
          "output_type": "stream",
          "text": [
            "32\n"
          ],
          "name": "stdout"
        }
      ]
    },
    {
      "cell_type": "code",
      "metadata": {
        "id": "hgUQhk3bjAb4",
        "colab": {
          "base_uri": "https://localhost:8080/"
        },
        "outputId": "f84194d5-7538-4d60-cb36-c6a302ba8e50"
      },
      "source": [
        "print(association_results[0])"
      ],
      "execution_count": null,
      "outputs": [
        {
          "output_type": "stream",
          "text": [
            "RelationRecord(items=frozenset({'sketch pen', 'crayons'}), support=0.1111111111111111, ordered_statistics=[OrderedStatistic(items_base=frozenset({'crayons'}), items_add=frozenset({'sketch pen'}), confidence=0.3333333333333333, lift=3.0), OrderedStatistic(items_base=frozenset({'sketch pen'}), items_add=frozenset({'crayons'}), confidence=1.0, lift=3.0)])\n"
          ],
          "name": "stdout"
        }
      ]
    },
    {
      "cell_type": "code",
      "metadata": {
        "id": "56UPdDoOjMfM",
        "colab": {
          "base_uri": "https://localhost:8080/"
        },
        "outputId": "6b833a3c-bf96-4f4d-9056-6293dda788fd"
      },
      "source": [
        "for item in association_results:\n",
        "\n",
        "    # 1st index value check\n",
        "    pair = item[0] \n",
        "    items = [x for x in pair]\n",
        "    print(\"Rule: \" + items[0] + \" -> \" + items[1])\n",
        "\n",
        "    #2nd index value check\n",
        "    print(\"Support: \" + str(item[1]))\n",
        "\n",
        "    #3rd index value check\n",
        "\n",
        "    print(\"Confidence: \" + str(item[2][0][2]))\n",
        "    print(\"Lift: \" + str(item[2][0][3]))\n",
        "    print(\"=====================================\")"
      ],
      "execution_count": null,
      "outputs": [
        {
          "output_type": "stream",
          "text": [
            "Rule: sketch pen -> crayons\n",
            "Support: 0.1111111111111111\n",
            "Confidence: 0.3333333333333333\n",
            "Lift: 3.0\n",
            "=====================================\n",
            "Rule: blue ball pen -> black gel pen\n",
            "Support: 0.05555555555555555\n",
            "Confidence: 1.0\n",
            "Lift: 3.5999999999999996\n",
            "=====================================\n",
            "Rule: pencil -> black gel pen\n",
            "Support: 0.1111111111111111\n",
            "Confidence: 0.5\n",
            "Lift: 3.0\n",
            "=====================================\n",
            "Rule: pencil -> black gel pen\n",
            "Support: 0.05555555555555555\n",
            "Confidence: 0.25\n",
            "Lift: 4.5\n",
            "=====================================\n",
            "Rule: blue ball pen -> sketchpen\n",
            "Support: 0.05555555555555555\n",
            "Confidence: 0.5\n",
            "Lift: 4.5\n",
            "=====================================\n",
            "Rule: blue ball pen -> pencil\n",
            "Support: 0.05555555555555555\n",
            "Confidence: 0.25\n",
            "Lift: 4.5\n",
            "=====================================\n",
            "Rule: drawing book -> sketchpen\n",
            "Support: 0.05555555555555555\n",
            "Confidence: 0.5\n",
            "Lift: 3.0\n",
            "=====================================\n",
            "Rule: sketch pen -> nan\n",
            "Support: 0.1111111111111111\n",
            "Confidence: 0.3333333333333333\n",
            "Lift: 3.0\n",
            "=====================================\n",
            "Rule: rubber -> scale\n",
            "Support: 0.05555555555555555\n",
            "Confidence: 0.25\n",
            "Lift: 4.5\n",
            "=====================================\n",
            "Rule: rubber -> nan\n",
            "Support: 0.05555555555555555\n",
            "Confidence: 0.5\n",
            "Lift: 3.0\n",
            "=====================================\n",
            "Rule: pencil -> rubber\n",
            "Support: 0.1111111111111111\n",
            "Confidence: 0.5\n",
            "Lift: 3.0\n",
            "=====================================\n",
            "Rule: rubber -> notebook\n",
            "Support: 0.05555555555555555\n",
            "Confidence: 0.25\n",
            "Lift: 4.5\n",
            "=====================================\n",
            "Rule: blue ball pen -> scale\n",
            "Support: 0.05555555555555555\n",
            "Confidence: 0.25\n",
            "Lift: 4.5\n",
            "=====================================\n",
            "Rule: blue ball pen -> black gel pen\n",
            "Support: 0.05555555555555555\n",
            "Confidence: 0.3333333333333333\n",
            "Lift: 6.0\n",
            "=====================================\n",
            "Rule: blue ball pen -> black gel pen\n",
            "Support: 0.05555555555555555\n",
            "Confidence: 0.5\n",
            "Lift: 3.0\n",
            "=====================================\n",
            "Rule: blue ball pen -> scale\n",
            "Support: 0.05555555555555555\n",
            "Confidence: 0.5\n",
            "Lift: 4.5\n",
            "=====================================\n",
            "Rule: blue ball pen -> black gel pen\n",
            "Support: 0.05555555555555555\n",
            "Confidence: 0.25\n",
            "Lift: 4.5\n",
            "=====================================\n",
            "Rule: pencil -> black gel pen\n",
            "Support: 0.05555555555555555\n",
            "Confidence: 0.25\n",
            "Lift: 4.5\n",
            "=====================================\n",
            "Rule: blue ball pen -> drawing book\n",
            "Support: 0.05555555555555555\n",
            "Confidence: 0.5\n",
            "Lift: 4.5\n",
            "=====================================\n",
            "Rule: blue ball pen -> nan\n",
            "Support: 0.05555555555555555\n",
            "Confidence: 0.5\n",
            "Lift: 4.5\n",
            "=====================================\n",
            "Rule: blue ball pen -> scale\n",
            "Support: 0.05555555555555555\n",
            "Confidence: 0.25\n",
            "Lift: 4.5\n",
            "=====================================\n",
            "Rule: blue ball pen -> scale\n",
            "Support: 0.1111111111111111\n",
            "Confidence: 0.5\n",
            "Lift: 3.0\n",
            "=====================================\n",
            "Rule: blue ball pen -> scale\n",
            "Support: 0.05555555555555555\n",
            "Confidence: 0.25\n",
            "Lift: 4.5\n",
            "=====================================\n",
            "Rule: blue ball pen -> pencil\n",
            "Support: 0.05555555555555555\n",
            "Confidence: 0.25\n",
            "Lift: 4.5\n",
            "=====================================\n",
            "Rule: nan -> drawing book\n",
            "Support: 0.05555555555555555\n",
            "Confidence: 0.5\n",
            "Lift: 3.0\n",
            "=====================================\n",
            "Rule: pencil -> nan\n",
            "Support: 0.05555555555555555\n",
            "Confidence: 0.5\n",
            "Lift: 3.0\n",
            "=====================================\n",
            "Rule: rubber -> scale\n",
            "Support: 0.05555555555555555\n",
            "Confidence: 0.25\n",
            "Lift: 4.5\n",
            "=====================================\n",
            "Rule: rubber -> nan\n",
            "Support: 0.05555555555555555\n",
            "Confidence: 0.25\n",
            "Lift: 4.5\n",
            "=====================================\n",
            "Rule: blue ball pen -> scale\n",
            "Support: 0.05555555555555555\n",
            "Confidence: 0.25\n",
            "Lift: 4.5\n",
            "=====================================\n",
            "Rule: blue ball pen -> notebook\n",
            "Support: 0.05555555555555555\n",
            "Confidence: 0.25\n",
            "Lift: 4.5\n",
            "=====================================\n",
            "Rule: blue ball pen -> sketchpen\n",
            "Support: 0.05555555555555555\n",
            "Confidence: 0.5\n",
            "Lift: 4.5\n",
            "=====================================\n",
            "Rule: blue ball pen -> scale\n",
            "Support: 0.05555555555555555\n",
            "Confidence: 0.25\n",
            "Lift: 4.5\n",
            "=====================================\n"
          ],
          "name": "stdout"
        }
      ]
    }
  ]
}